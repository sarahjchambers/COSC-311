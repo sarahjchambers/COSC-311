{
 "cells": [
  {
   "cell_type": "markdown",
   "id": "568b712d",
   "metadata": {},
   "source": [
    "# Project 2- COSC 311\n",
    "## Author: Sarah Chambers\n",
    "\n",
    "\n",
    "### TASK 1: Clustering for Wireless Indoor Localization \n",
    "\n",
    "1a.) Use first 7 columns of this dataset to conduct k-means clustering (k = 4), output the center of each cluster.\n",
    "1b.) Use the last column (room number) as the ground truth to match each cluster with its label (room number), calculate the output the clustering accuracy (show how many samples are correctly classified), and show the corresponding confusion matrix as a figure.\n",
    "1c.) Calculate and output the clustering algorithm of each room (i.e. out of all the samples for EACH room, how many samples are correctly clustered)."
   ]
  },
  {
   "cell_type": "code",
   "execution_count": 5,
   "id": "b5575c93",
   "metadata": {},
   "outputs": [
    {
     "name": "stdout",
     "output_type": "stream",
     "text": [
      "[[-62.482      -56.312      -60.566      -64.204      -70.278\n",
      "  -82.956      -84.072     ]\n",
      " [-49.17102967 -55.15881326 -53.29144852 -50.03839442 -64.04537522\n",
      "  -80.94240838 -81.85340314]\n",
      " [-35.43058824 -55.93411765 -55.72470588 -36.69411765 -67.32235294\n",
      "  -71.59294118 -72.56941176]\n",
      " [-60.13346614 -55.20517928 -50.64940239 -61.28286853 -49.46613546\n",
      "  -87.02191235 -86.99800797]]\n",
      "Clustering accuracy: 0.9545\n",
      "Confusion matrix:\n",
      " [[496   0   4   0]\n",
      " [  0 425  75   0]\n",
      " [  2   0 492   6]\n",
      " [  2   0   2 496]]\n"
     ]
    },
    {
     "data": {
      "image/png": "[encoded data removed]",
      "text/plain": [
       "<Figure size 432x288 with 2 Axes>"
      ]
     },
     "metadata": {},
     "output_type": "display_data"
    },
    {
     "name": "stdout",
     "output_type": "stream",
     "text": [
      "Clustering accuracy: 0.9275\n",
      "Room 1 clustering accuracy: 0.89\n",
      "Room 2 clustering accuracy: 0.90\n",
      "Room 3 clustering accuracy: 0.93\n",
      "Room 4 clustering accuracy: 0.99\n"
     ]
    }
   ],
   "source": [
    "# Import all of my libraries\n",
    "%matplotlib inline\n",
    "from scipy.stats import mode\n",
    "from sklearn.metrics import confusion_matrix, accuracy_score\n",
    "from sklearn.cluster import KMeans\n",
    "from sklearn.datasets import make_blobs\n",
    "import matplotlib.pyplot as plt\n",
    "import seaborn as sns; sns.set()\n",
    "import numpy as np\n",
    "import pandas as pd\n",
    "\n",
    "# Load Wireless Indoor Localization data into a DataFrame\n",
    "wifi = pd.read_csv('wifi_localization.txt', header=None, delimiter='\\t')\n",
    "\n",
    "# Use the first 7 columns as features\n",
    "X = wifi.iloc[:, :7]\n",
    "\n",
    "# Perform k-means clustering with k=4\n",
    "kmeans = KMeans(n_clusters=4)\n",
    "kmeans.fit(X) \n",
    "y_kmeans = kmeans.predict(X)\n",
    "\n",
    "# Output the center of each cluster\n",
    "centers = kmeans.cluster_centers_\n",
    "print(centers)\n",
    "\n",
    "# Load Wireless Indoor Localization data into a DataFrame\n",
    "wifi = pd.read_csv('wifi_localization.txt', header=None, delimiter='\\t')\n",
    "\n",
    "# Use the first 7 columns as features\n",
    "X = wifi.iloc[:, :7]\n",
    "\n",
    "# Perform k-means clustering with k=4\n",
    "kmeans = KMeans(n_clusters=4)\n",
    "kmeans.fit(X) \n",
    "y_kmeans = kmeans.predict(X)\n",
    "\n",
    "# Match each cluster with its label\n",
    "labels = np.zeros_like(y_kmeans)\n",
    "for i in range(4):\n",
    "    mask = (y_kmeans == i)\n",
    "    labels[mask] = mode(wifi.iloc[:, -1][mask])[0]\n",
    "\n",
    "# Calculate clustering accuracy and confusion matrix\n",
    "accuracy = accuracy_score(wifi.iloc[:, -1], labels)\n",
    "cm = confusion_matrix(wifi.iloc[:, -1], labels)\n",
    "\n",
    "# Output the clustering accuracy and confusion matrix\n",
    "print('Clustering accuracy:', accuracy)\n",
    "print('Confusion matrix:\\n', cm)\n",
    "\n",
    "# Plot the confusion matrix as a figure\n",
    "sns.heatmap(cm, annot=True, cmap='Blues', fmt='g')\n",
    "plt.xlabel('Predicted')\n",
    "plt.ylabel('True')\n",
    "plt.show()\n",
    "\n",
    "# Scale the features\n",
    "scaler = StandardScaler()\n",
    "X_scaled = scaler.fit_transform(X)\n",
    "\n",
    "# Perform k-means clustering with k=4\n",
    "kmeans = KMeans(n_clusters=4, random_state=42)\n",
    "kmeans.fit(X_scaled)\n",
    "y_kmeans = kmeans.predict(X_scaled)\n",
    "\n",
    "# Match each cluster with its label\n",
    "labels = np.zeros_like(y_kmeans)\n",
    "for i in range(4):\n",
    "    mask = (y_kmeans == i)\n",
    "    labels[mask] = np.bincount(wifi.iloc[:, -1][mask]).argmax()\n",
    "\n",
    "# Calculate clustering accuracy\n",
    "accuracy = accuracy_score(wifi.iloc[:, -1], labels)\n",
    "print('Clustering accuracy:', accuracy)\n",
    "\n",
    "# Calculate and print the accuracy for each room\n",
    "for i in range(1, 5):\n",
    "    mask = (wifi.iloc[:, -1] == i)\n",
    "    room_accuracy = accuracy_score(wifi.iloc[:, -1][mask], labels[mask])\n",
    "    print(f'Room {i} clustering accuracy: {room_accuracy:.2f}')"
   ]
  },
  {
   "cell_type": "markdown",
   "id": "ebf321d3",
   "metadata": {},
   "source": [
    "### TASK 2: PCA Based Hand-Written Digits Classifacation\n",
    "\n",
    "2a.) Conduct PCA analysis on the dataset and find out how many principal components are needed to keep at least 90% \n",
    "variance (i.e. the ratio of variance loss, η, is less than 10%).\n",
    "2b.) Assume m principal components are needed to keep at least 90% variance, transform the dataset from 64 \n",
    "dimensions to m dimensions.\n",
    "2c.) Based on the above dimension-reduced dataset, build a classification model (any algorithm) with optimized \n",
    "parameters to do cross-validation test (CVT) (fold = 10), show the CVT accuracy and corresponding confusion matrix \n",
    "(in a figure)."
   ]
  },
  {
   "cell_type": "code",
   "execution_count": 3,
   "id": "0f17b48e",
   "metadata": {
    "scrolled": true
   },
   "outputs": [
    {
     "name": "stdout",
     "output_type": "stream",
     "text": [
      "Number of principal components to keep at least 90% variance: 31\n",
      "Best parameters: {'svm__C': 10, 'svm__kernel': 'rbf'}\n",
      "CVT accuracy: 0.9812\n"
     ]
    },
    {
     "data": {
      "image/png": "[encoded data removed]",
      "text/plain": [
       "<Figure size 576x576 with 1 Axes>"
      ]
     },
     "metadata": {},
     "output_type": "display_data"
    }
   ],
   "source": [
    "from sklearn.datasets import load_digits\n",
    "from sklearn.decomposition import PCA\n",
    "from sklearn.model_selection import GridSearchCV\n",
    "from sklearn.model_selection import cross_val_score, train_test_split\n",
    "from sklearn.pipeline import Pipeline\n",
    "from sklearn.preprocessing import StandardScaler\n",
    "from sklearn.svm import SVC\n",
    "import matplotlib.pyplot as plt\n",
    "import numpy as np\n",
    "\n",
    "# Load the digits dataset\n",
    "digits = load_digits()\n",
    "\n",
    "# Split the dataset into training and testing sets\n",
    "X_train, X_test, y_train, y_test = train_test_split(digits.data, digits.target, test_size=0.2, random_state=42)\n",
    "\n",
    "# Standardize the data\n",
    "scaler = StandardScaler()\n",
    "X_train_scaled = scaler.fit_transform(X_train)\n",
    "\n",
    "# Perform PCA to determine the number of principal components needed to keep at least 90% of the variance\n",
    "pca = PCA()\n",
    "pca.fit(X_train_scaled)\n",
    "variance_ratio_cumsum = np.cumsum(pca.explained_variance_ratio_)\n",
    "n_components = np.argmax(variance_ratio_cumsum >= 0.9) + 1\n",
    "print(f\"Number of principal components to keep at least 90% variance: {n_components}\")\n",
    "\n",
    "# Transform the training and testing data using the selected number of principal components\n",
    "pca = PCA(n_components=n_components)\n",
    "X_train_pca = pca.fit_transform(X_train_scaled)\n",
    "X_test_pca = pca.transform(scaler.transform(X_test))\n",
    "\n",
    "# Build a classification model using the transformed data\n",
    "model = Pipeline([\n",
    "    (\"scaler\", StandardScaler()),\n",
    "    (\"pca\", PCA(n_components=n_components)),\n",
    "    (\"svm\", SVC())\n",
    "])\n",
    "\n",
    "# Optimize the parameters of the classification model using cross-validation\n",
    "param_grid = {\n",
    "    \"svm__C\": [0.1, 1, 10],\n",
    "    \"svm__kernel\": [\"linear\", \"rbf\"]\n",
    "}\n",
    "grid_search = GridSearchCV(model, param_grid=param_grid, cv=10, n_jobs=-1)\n",
    "grid_search.fit(X_train, y_train)\n",
    "print(f\"Best parameters: {grid_search.best_params_}\")\n",
    "print(f\"CVT accuracy: {grid_search.best_score_:.4f}\")\n",
    "\n",
    "# Calculate and plot the confusion matrix\n",
    "from sklearn.metrics import confusion_matrix\n",
    "y_pred = grid_search.predict(X_test)\n",
    "conf_mat = confusion_matrix(y_test, y_pred)\n",
    "fig, ax = plt.subplots(figsize=(8, 8))\n",
    "ax.imshow(conf_mat)\n",
    "ax.set_xticks(range(10))\n",
    "ax.set_yticks(range(10))\n",
    "ax.set_xticklabels(range(10))\n",
    "ax.set_yticklabels(range(10))\n",
    "for i in range(10):\n",
    "    for j in range(10):\n",
    "        ax.text(j, i, conf_mat[i, j], ha=\"center\", va=\"center\", color=\"white\")\n",
    "plt.show()"
   ]
  },
  {
   "cell_type": "markdown",
   "id": "32269f73",
   "metadata": {},
   "source": [
    "### TASK 3: Regression Model for Median House Value Prediction\n",
    "\n",
    "3a.) Assume the “median_house_value” is related to the following attributes in this dataset: “housing_median_age”, \n",
    "“total_rooms”, “total_bedrooms”, “population”, and “median_income”, use correlation coefficient analysis to select \n",
    "3 attributes that have higher correlation with the target variable (i.e. “median_house_value”).\n",
    "3b.) Randomly split all the samples (each sample include the 3 selected attributes and one target variable) into \n",
    "two parts: 60% for training and 40% for testing.\n",
    "3c.) Use training data to build a Multiple Linear Regression model and test it using the testing data. \n",
    "Show the performance of the regression model, including MAE, MSE, and RMSE."
   ]
  },
  {
   "cell_type": "code",
   "execution_count": 4,
   "id": "a31e65d6",
   "metadata": {},
   "outputs": [
    {
     "name": "stdout",
     "output_type": "stream",
     "text": [
      "Evaluation Metrics:\n",
      "MAE: 60099.77\n",
      "MSE: 6558828280.08\n",
      "RMSE: 80986.59\n"
     ]
    }
   ],
   "source": [
    "import pandas as pd\n",
    "import numpy as np\n",
    "from sklearn.linear_model import LinearRegression\n",
    "from sklearn.metrics import mean_absolute_error, mean_squared_error\n",
    "\n",
    "# Load the Housing Dataset\n",
    "housing = pd.read_csv(\"housing.csv\")\n",
    "\n",
    "# Select the attributes to be used in correlation coefficient analysis\n",
    "selected_attrs = [\"housing_median_age\", \"total_rooms\", \"total_bedrooms\", \"population\", \"median_income\"]\n",
    "\n",
    "# Compute the correlation coefficients between the selected attributes and the target variable\n",
    "corr_coeffs = housing[selected_attrs + [\"median_house_value\"]].corr()[\"median_house_value\"].sort_values(ascending=False)\n",
    "\n",
    "# Select the top 3 attributes with highest correlation coefficients\n",
    "top3_attrs = corr_coeffs[1:4].index.tolist()\n",
    "\n",
    "# Split the data into training and testing sets\n",
    "train_size = 0.6\n",
    "train_index = np.random.rand(len(housing)) < train_size\n",
    "train_data = housing.loc[train_index, top3_attrs + [\"median_house_value\"]]\n",
    "test_data = housing.loc[~train_index, top3_attrs + [\"median_house_value\"]]\n",
    "\n",
    "# Train a multiple linear regression model using the training data\n",
    "reg = LinearRegression().fit(train_data[top3_attrs], train_data[\"median_house_value\"])\n",
    "\n",
    "# Test the model using the testing data\n",
    "y_pred = reg.predict(test_data[top3_attrs])\n",
    "\n",
    "# Compute the evaluation metrics\n",
    "mae = mean_absolute_error(test_data[\"median_house_value\"], y_pred)\n",
    "mse = mean_squared_error(test_data[\"median_house_value\"], y_pred)\n",
    "rmse = np.sqrt(mse)\n",
    "\n",
    "# Print the evaluation metrics w/ 2 decimal places\n",
    "print(\"Evaluation Metrics:\")\n",
    "print(f\"MAE: {mae:.2f}\")\n",
    "print(f\"MSE: {mse:.2f}\")\n",
    "print(f\"RMSE: {rmse:.2f}\")"
   ]
  }
 ],
 "metadata": {
  "kernelspec": {
   "display_name": "Python 3 (ipykernel)",
   "language": "python",
   "name": "python3"
  },
  "language_info": {
   "codemirror_mode": {
    "name": "ipython",
    "version": 3
   },
   "file_extension": ".py",
   "mimetype": "text/x-python",
   "name": "python",
   "nbconvert_exporter": "python",
   "pygments_lexer": "ipython3",
   "version": "3.9.12"
  }
 },
 "nbformat": 4,
 "nbformat_minor": 5
}
